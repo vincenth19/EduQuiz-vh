{
 "cells": [
  {
   "cell_type": "code",
   "execution_count": 2,
   "id": "92e52e15",
   "metadata": {},
   "outputs": [
    {
     "name": "stdout",
     "output_type": "stream",
     "text": [
      "Requirement already satisfied: evaluate in /Users/vh19/.local/share/mise/installs/python/3.13.5/lib/python3.13/site-packages (0.4.5)\n",
      "Requirement already satisfied: nltk in /Users/vh19/.local/share/mise/installs/python/3.13.5/lib/python3.13/site-packages (3.9.1)\n",
      "Requirement already satisfied: rouge_score in /Users/vh19/.local/share/mise/installs/python/3.13.5/lib/python3.13/site-packages (0.1.2)\n",
      "Requirement already satisfied: absl-py in /Users/vh19/.local/share/mise/installs/python/3.13.5/lib/python3.13/site-packages (2.3.1)\n",
      "Requirement already satisfied: datasets>=2.0.0 in /Users/vh19/.local/share/mise/installs/python/3.13.5/lib/python3.13/site-packages (from evaluate) (2.21.0)\n",
      "Requirement already satisfied: numpy>=1.17 in /Users/vh19/.local/share/mise/installs/python/3.13.5/lib/python3.13/site-packages (from evaluate) (2.3.2)\n",
      "Requirement already satisfied: dill in /Users/vh19/.local/share/mise/installs/python/3.13.5/lib/python3.13/site-packages (from evaluate) (0.3.5.1)\n",
      "Requirement already satisfied: pandas in /Users/vh19/.local/share/mise/installs/python/3.13.5/lib/python3.13/site-packages (from evaluate) (2.3.2)\n",
      "Requirement already satisfied: requests>=2.19.0 in /Users/vh19/.local/share/mise/installs/python/3.13.5/lib/python3.13/site-packages (from evaluate) (2.32.5)\n",
      "Requirement already satisfied: tqdm>=4.62.1 in /Users/vh19/.local/share/mise/installs/python/3.13.5/lib/python3.13/site-packages (from evaluate) (4.67.1)\n",
      "Requirement already satisfied: xxhash in /Users/vh19/.local/share/mise/installs/python/3.13.5/lib/python3.13/site-packages (from evaluate) (3.5.0)\n",
      "Requirement already satisfied: multiprocess in /Users/vh19/.local/share/mise/installs/python/3.13.5/lib/python3.13/site-packages (from evaluate) (0.70.13)\n",
      "Requirement already satisfied: fsspec>=2021.05.0 in /Users/vh19/.local/share/mise/installs/python/3.13.5/lib/python3.13/site-packages (from fsspec[http]>=2021.05.0->evaluate) (2024.6.1)\n",
      "Requirement already satisfied: huggingface-hub>=0.7.0 in /Users/vh19/.local/share/mise/installs/python/3.13.5/lib/python3.13/site-packages (from evaluate) (0.34.4)\n",
      "Requirement already satisfied: packaging in /Users/vh19/.local/lib/python3.13/site-packages (from evaluate) (25.0)\n",
      "Requirement already satisfied: click in /Users/vh19/.local/share/mise/installs/python/3.13.5/lib/python3.13/site-packages (from nltk) (8.2.1)\n",
      "Requirement already satisfied: joblib in /Users/vh19/.local/share/mise/installs/python/3.13.5/lib/python3.13/site-packages (from nltk) (1.5.1)\n",
      "Requirement already satisfied: regex>=2021.8.3 in /Users/vh19/.local/share/mise/installs/python/3.13.5/lib/python3.13/site-packages (from nltk) (2025.7.34)\n",
      "Requirement already satisfied: six>=1.14.0 in /Users/vh19/.local/lib/python3.13/site-packages (from rouge_score) (1.17.0)\n",
      "Requirement already satisfied: filelock in /Users/vh19/.local/share/mise/installs/python/3.13.5/lib/python3.13/site-packages (from datasets>=2.0.0->evaluate) (3.19.1)\n",
      "Requirement already satisfied: pyarrow>=15.0.0 in /Users/vh19/.local/share/mise/installs/python/3.13.5/lib/python3.13/site-packages (from datasets>=2.0.0->evaluate) (21.0.0)\n",
      "Requirement already satisfied: aiohttp in /Users/vh19/.local/share/mise/installs/python/3.13.5/lib/python3.13/site-packages (from datasets>=2.0.0->evaluate) (3.12.15)\n",
      "Requirement already satisfied: pyyaml>=5.1 in /Users/vh19/.local/share/mise/installs/python/3.13.5/lib/python3.13/site-packages (from datasets>=2.0.0->evaluate) (6.0.2)\n",
      "Requirement already satisfied: typing-extensions>=3.7.4.3 in /Users/vh19/.local/share/mise/installs/python/3.13.5/lib/python3.13/site-packages (from huggingface-hub>=0.7.0->evaluate) (4.14.1)\n",
      "Requirement already satisfied: hf-xet<2.0.0,>=1.1.3 in /Users/vh19/.local/share/mise/installs/python/3.13.5/lib/python3.13/site-packages (from huggingface-hub>=0.7.0->evaluate) (1.1.8)\n",
      "Requirement already satisfied: charset_normalizer<4,>=2 in /Users/vh19/.local/share/mise/installs/python/3.13.5/lib/python3.13/site-packages (from requests>=2.19.0->evaluate) (3.4.3)\n",
      "Requirement already satisfied: idna<4,>=2.5 in /Users/vh19/.local/share/mise/installs/python/3.13.5/lib/python3.13/site-packages (from requests>=2.19.0->evaluate) (3.10)\n",
      "Requirement already satisfied: urllib3<3,>=1.21.1 in /Users/vh19/.local/share/mise/installs/python/3.13.5/lib/python3.13/site-packages (from requests>=2.19.0->evaluate) (2.5.0)\n",
      "Requirement already satisfied: certifi>=2017.4.17 in /Users/vh19/.local/share/mise/installs/python/3.13.5/lib/python3.13/site-packages (from requests>=2.19.0->evaluate) (2025.8.3)\n",
      "Requirement already satisfied: python-dateutil>=2.8.2 in /Users/vh19/.local/lib/python3.13/site-packages (from pandas->evaluate) (2.9.0.post0)\n",
      "Requirement already satisfied: pytz>=2020.1 in /Users/vh19/.local/share/mise/installs/python/3.13.5/lib/python3.13/site-packages (from pandas->evaluate) (2025.2)\n",
      "Requirement already satisfied: tzdata>=2022.7 in /Users/vh19/.local/share/mise/installs/python/3.13.5/lib/python3.13/site-packages (from pandas->evaluate) (2025.2)\n",
      "Requirement already satisfied: aiohappyeyeballs>=2.5.0 in /Users/vh19/.local/share/mise/installs/python/3.13.5/lib/python3.13/site-packages (from aiohttp->datasets>=2.0.0->evaluate) (2.6.1)\n",
      "Requirement already satisfied: aiosignal>=1.4.0 in /Users/vh19/.local/share/mise/installs/python/3.13.5/lib/python3.13/site-packages (from aiohttp->datasets>=2.0.0->evaluate) (1.4.0)\n",
      "Requirement already satisfied: attrs>=17.3.0 in /Users/vh19/.local/share/mise/installs/python/3.13.5/lib/python3.13/site-packages (from aiohttp->datasets>=2.0.0->evaluate) (25.3.0)\n",
      "Requirement already satisfied: frozenlist>=1.1.1 in /Users/vh19/.local/share/mise/installs/python/3.13.5/lib/python3.13/site-packages (from aiohttp->datasets>=2.0.0->evaluate) (1.7.0)\n",
      "Requirement already satisfied: multidict<7.0,>=4.5 in /Users/vh19/.local/share/mise/installs/python/3.13.5/lib/python3.13/site-packages (from aiohttp->datasets>=2.0.0->evaluate) (6.6.4)\n",
      "Requirement already satisfied: propcache>=0.2.0 in /Users/vh19/.local/share/mise/installs/python/3.13.5/lib/python3.13/site-packages (from aiohttp->datasets>=2.0.0->evaluate) (0.3.2)\n",
      "Requirement already satisfied: yarl<2.0,>=1.17.0 in /Users/vh19/.local/share/mise/installs/python/3.13.5/lib/python3.13/site-packages (from aiohttp->datasets>=2.0.0->evaluate) (1.20.1)\n",
      "\n",
      "\u001b[1m[\u001b[0m\u001b[34;49mnotice\u001b[0m\u001b[1;39;49m]\u001b[0m\u001b[39;49m A new release of pip is available: \u001b[0m\u001b[31;49m24.3.1\u001b[0m\u001b[39;49m -> \u001b[0m\u001b[32;49m25.2\u001b[0m\n",
      "\u001b[1m[\u001b[0m\u001b[34;49mnotice\u001b[0m\u001b[1;39;49m]\u001b[0m\u001b[39;49m To update, run: \u001b[0m\u001b[32;49mpip install --upgrade pip\u001b[0m\n",
      "Note: you may need to restart the kernel to use updated packages.\n"
     ]
    }
   ],
   "source": [
    "%pip install evaluate nltk rouge_score absl-py"
   ]
  },
  {
   "cell_type": "code",
   "execution_count": 3,
   "id": "8ced4de7",
   "metadata": {},
   "outputs": [
    {
     "name": "stderr",
     "output_type": "stream",
     "text": [
      "/Users/vh19/.local/share/mise/installs/python/3.13.5/lib/python3.13/site-packages/tqdm/auto.py:21: TqdmWarning: IProgress not found. Please update jupyter and ipywidgets. See https://ipywidgets.readthedocs.io/en/stable/user_install.html\n",
      "  from .autonotebook import tqdm as notebook_tqdm\n"
     ]
    }
   ],
   "source": [
    "import evaluate\n",
    "import json\n",
    "import os\n",
    "import math"
   ]
  },
  {
   "cell_type": "code",
   "execution_count": 4,
   "id": "76867e37",
   "metadata": {},
   "outputs": [
    {
     "name": "stdout",
     "output_type": "stream",
     "text": [
      "/Users/vh19/Documents/Works/personal-projects/EduQuiz-vh/processed_data/gpt5/processed_test.json\n",
      "/Users/vh19/Documents/Works/personal-projects/EduQuiz-vh/generated_data_gpt5/a1_test.json\n"
     ]
    }
   ],
   "source": [
    "# Change these variables to perform evalution for you task\n",
    "original_quiz_path = os.path.abspath(os.getcwd()).split('gpt5_evaluation_scripts')[0] + 'processed_data/gpt5/processed_test.json'\n",
    "generated_quiz_path = os.path.abspath(os.getcwd()).split('gpt5_evaluation_scripts')[0] + 'generated_data_gpt5/a1_test.json'\n",
    "print(original_quiz_path)\n",
    "print(generated_quiz_path)"
   ]
  },
  {
   "cell_type": "code",
   "execution_count": 5,
   "id": "70b66793",
   "metadata": {},
   "outputs": [],
   "source": [
    "# Get original quizzes\n",
    "original_quizzes = []\n",
    "\n",
    "for line in open(original_quiz_path):\n",
    "    original_quizzes.append(json.loads(line)['completion'].split(\"\\n###\")[0].replace(\"\\n\",\" \").strip())\n",
    "\n",
    "# Get generated quizzes\n",
    "generated_quizzes = []\n",
    "with open(generated_quiz_path) as f:\n",
    "    generated_quizzes_dict = json.load(f)\n",
    "\n",
    "for key in generated_quizzes_dict:\n",
    "    generated_quizzes.append(generated_quizzes_dict[key].replace(\"\\n\",\" \").strip())"
   ]
  },
  {
   "cell_type": "code",
   "execution_count": 6,
   "id": "3d9dfcfa",
   "metadata": {},
   "outputs": [
    {
     "name": "stdout",
     "output_type": "stream",
     "text": [
      "Predictions: ['Question: What made the Christmas Day especially memorable for Alice? True answer: She received a doll presented as a long-belated gift from “Santa.” False answer: She was reunited with her long-lost mother. False answer: She surprised Katie with a trip to see Santa at the mall. False answer: She received an expensive piece of jewelry from her children.', 'Question: What made Alice cry with joy on Christmas Day? True answer: Receiving a long-awaited doll presented as a late gift from “Santa.” False answer: Hearing that her mother was still alive. False answer: Seeing Katie refuse her Christmas gifts. False answer: Finding the message card addressed to Katie.', 'Question: What made the Christmas memorable for Alice in 1982? True answer: Receiving a long-awaited doll presented by “Santa” as if from 1925 False answer: Being reunited with her long-lost mother False answer: Watching Katie open all her presents first False answer: Learning her family could finally afford many toys', 'Question: Why did the date Joel walked again feel meaningful to him? True answer: He had dreamt of “J 23” and a boy had told him he’d walk on a Thursday. False answer: It was the anniversary of his first basketball game. False answer: His doctors had predicted that exact recovery date. False answer: It was the day he started Robotic Walking Treatment.', 'Question: How do the Oprah Winfrey and Jerry Springer shows mainly differ according to the passage? True answer: Oprah focuses on improving society and quality of life, while Jerry highlights society’s dark side. False answer: Oprah targets young adults, while Jerry targets middle-class Americans. False answer: Both shows primarily teach work management and neighborhood relations. False answer: Jerry avoids controversial topics, while Oprah centers on scandal and conflict.']\n",
      "Gold references: [[\"Question: Why couldn't Alice get a doll as a child? True answer: Because her family was very poor. False answer: Because her mother died quite early. False answer: Because her family disliked her. False answer: Because Alice didn't love dolls.\"], [\"Question: What did the friend's father do that Christmas morning? True answer: He acted as Santa Claus to send Christmas gifts. False answer: He went to her home to see Alice. False answer: He bought some Christmas gifts for Katie. False answer: He helped her to get Christmas gifts ready.\"], [\"Question: Why didn't Alice expect there was also a gift for her? True answer: The gifts from Santa Claus were usually for children. False answer: The gift was forgotten many years ago. False answer: The gift for her was bought by accident on the way. False answer: The gifts for Katie were enough to share with her.\"], [\"Question: Which part of Joel Haler's body didn't work? True answer: His legs and feet. False answer: His whole body. False answer: His arms and hands. False answer: His arms and legs\"], ['Question: What is the advantage of the Jerry Springer show? True answer: Jerry sums up   the whole idea of the show. False answer: The show exposes the dark sides of society. False answer: The show pours poisonous waste into society. False answer: Jerry talks about the improvement of society.']]\n"
     ]
    }
   ],
   "source": [
    "# Put the predictions and gold references in lists\n",
    "\n",
    "predictions = []\n",
    "gold_references = []\n",
    "# temporary changes to make it work for a1_test.json\n",
    "#for i in range(len(original_quizzes)):\n",
    "for i in range(len(generated_quizzes)):\n",
    "    predictions.append(generated_quizzes[i])\n",
    "    gold_references.append([original_quizzes[i]])  # BLEU expects list of reference strings\n",
    "\n",
    "print(\"Predictions:\", predictions)\n",
    "print(\"Gold references:\", gold_references)"
   ]
  },
  {
   "cell_type": "code",
   "execution_count": 7,
   "id": "7514ed0c",
   "metadata": {},
   "outputs": [],
   "source": [
    "bleu = evaluate.load('bleu')\n",
    "rouge = evaluate.load('rouge')"
   ]
  },
  {
   "cell_type": "code",
   "execution_count": 8,
   "id": "957df6de",
   "metadata": {},
   "outputs": [],
   "source": [
    "bleu.add_batch(predictions=predictions, references=gold_references)\n",
    "rouge.add_batch(predictions=predictions, references=gold_references)"
   ]
  },
  {
   "cell_type": "code",
   "execution_count": 9,
   "id": "f0b5280b",
   "metadata": {},
   "outputs": [],
   "source": [
    "final_bleu = bleu.compute()\n",
    "final_rouge = rouge.compute()"
   ]
  },
  {
   "cell_type": "code",
   "execution_count": 13,
   "id": "ddd7208e",
   "metadata": {},
   "outputs": [],
   "source": [
    "# Define path of downloaded meteor from https://www.cs.cmu.edu/~alavie/METEOR/\n",
    "meteor_path = os.path.abspath(os.getcwd()).split('gpt5_evaluation_scripts')[0] + '/meteor-1.5/'\n",
    "\n",
    "# Move results to meteor directory\n",
    "with open(meteor_path + \"predictions.txt\", 'w') as f:\n",
    "    for i in range(len(predictions)):\n",
    "        f.write(str(predictions[i]) + '\\n')\n",
    "        \n",
    "with open(meteor_path + \"ground_truth.txt\", 'w') as f:\n",
    "    for i in range(len(gold_references)):\n",
    "        f.write(str(gold_references[i]) + '\\n')\n",
    "\n",
    "# Run the meteor command from the meteor directory and remove result files again   \n",
    "wd = os.getcwd()\n",
    "os.chdir(meteor_path)\n",
    "output = os.popen(\"java -Xmx2G -jar meteor-*.jar predictions.txt ground_truth.txt -l en -norm\").read()\n",
    "os.remove(meteor_path + \"predictions.txt\")\n",
    "os.remove(meteor_path + \"ground_truth.txt\")\n",
    "os.chdir(wd)\n",
    "\n",
    "# Get the score from the output\n",
    "meteor_score = round(float(output.split(\"Final score:\")[1].strip()) * 100, 2)"
   ]
  },
  {
   "cell_type": "code",
   "execution_count": 15,
   "id": "54f4a662",
   "metadata": {},
   "outputs": [
    {
     "name": "stdout",
     "output_type": "stream",
     "text": [
      "BLEU:  15.65\n",
      "ROUGE-L: 26.96\n",
      "METEOR:  22.68\n"
     ]
    }
   ],
   "source": [
    "print(\"BLEU: \", str(round(final_bleu['bleu'] * 100, 2)))\n",
    "print(f\"ROUGE-L: {final_rouge['rougeL'] * 100:.2f}\")\n",
    "print(\"METEOR: \", str(meteor_score))"
   ]
  },
  {
   "cell_type": "code",
   "execution_count": 18,
   "id": "331f30af",
   "metadata": {},
   "outputs": [],
   "source": [
    "# Create result files\n",
    "        \n",
    "with open(os.path.abspath(os.getcwd()).split('gpt5_evaluation_scripts')[0] + 'generated_data_gpt5/' + 'automatic_evaluation_EEQG.txt', 'w') as f:\n",
    "    f.write(\"BLEU: \" + str(round(final_bleu['bleu'] * 100, 2)))\n",
    "    f.write('\\n')\n",
    "    f.write(\"ROUGE-L: \" + str(round(final_rouge['rougeL'] * 100, 2)))\n",
    "    f.write('\\n')\n",
    "    f.write(\"METEOR: \" + str(meteor_score))"
   ]
  },
  {
   "cell_type": "code",
   "execution_count": 24,
   "id": "eacbe38c",
   "metadata": {},
   "outputs": [
    {
     "name": "stdout",
     "output_type": "stream",
     "text": [
      "Test data length: 950\n",
      "Generated quizzes length: 5\n",
      "Created human evaluation file with 5 samples\n"
     ]
    }
   ],
   "source": [
    "# Get all the target prompts and completions\n",
    "test_data = []\n",
    "for line in open(original_quiz_path):\n",
    "    test_data.append((json.loads(line)))\n",
    "\n",
    "# Get quizzes\n",
    "quizzes = []\n",
    "with open(generated_quiz_path) as f:\n",
    "    gen_quizzes = json.load(f)\n",
    "\n",
    "for key in gen_quizzes:\n",
    "    quizzes.append(gen_quizzes[key])\n",
    "\n",
    "print(f\"Test data length: {len(test_data)}\")\n",
    "print(f\"Generated quizzes length: {len(quizzes)}\")\n",
    "\n",
    "# Create human evaluation file - handle small datasets\n",
    "count = 0\n",
    "output_dir = os.path.abspath(os.getcwd()).split('gpt5_evaluation_scripts')[0] + 'human_evaluation/EEQG/'\n",
    "os.makedirs(output_dir, exist_ok=True)  # Create directory if it doesn't exist\n",
    "\n",
    "with open(output_dir + 'EEQG_gpt5.txt', 'w') as f:\n",
    "    # Use the smaller of the two datasets to avoid index errors\n",
    "    max_samples = min(len(test_data), len(quizzes), 100)\n",
    "    step_size = max(1, len(quizzes) // max_samples) if len(quizzes) > max_samples else 1\n",
    "    \n",
    "    for i in range(0, len(quizzes), step_size):\n",
    "        if count >= max_samples:\n",
    "            break\n",
    "            \n",
    "        f.write('Excel row: ' + str(count+1) + ' Test instance: ' + str(i+1) + '\\n\\n')\n",
    "        f.write(test_data[i]['prompt'].split(\"\\n\\n###\")[0] + '\\n\\n')\n",
    "        f.write('Generated quiz:\\n')\n",
    "        f.write(quizzes[i].strip() + '\\n\\n')\n",
    "        f.write('----------------------------------------------------------------------------------------' + '\\n\\n')\n",
    "        count+=1\n",
    "\n",
    "print(f\"Created human evaluation file with {count} samples\")\n"
   ]
  }
 ],
 "metadata": {
  "kernelspec": {
   "display_name": "Python 3",
   "language": "python",
   "name": "python3"
  },
  "language_info": {
   "codemirror_mode": {
    "name": "ipython",
    "version": 3
   },
   "file_extension": ".py",
   "mimetype": "text/x-python",
   "name": "python",
   "nbconvert_exporter": "python",
   "pygments_lexer": "ipython3",
   "version": "3.13.5"
  }
 },
 "nbformat": 4,
 "nbformat_minor": 5
}
