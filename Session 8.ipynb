{
  "cells": [
    {
      "cell_type": "code",
      "execution_count": null,
      "id": "c168fdcb",
      "metadata": {},
      "outputs": [
        {
          "ename": "",
          "evalue": "",
          "output_type": "error",
          "traceback": [
            "\u001b[1;31mRunning cells with 'Python 3.12.11' requires the ipykernel package.\n",
            "\u001b[1;31m<a href='command:jupyter.createPythonEnvAndSelectController'>Create a Python Environment</a> with the required packages.\n",
            "\u001b[1;31mOr install 'ipykernel' using the command: '/opt/homebrew/bin/python3.12 -m pip install ipykernel -U --user --force-reinstall'"
          ]
        }
      ],
      "source": [
        "%pip install numpy pandas matplotlib seaborn spacy"
      ]
    },
    {
      "cell_type": "code",
      "execution_count": null,
      "id": "f6669315",
      "metadata": {
        "id": "f6669315"
      },
      "outputs": [],
      "source": [
        "import numpy as np\n",
        "import pandas as pd\n",
        "import seaborn as sns\n",
        "import matplotlib.pyplot as plt\n",
        "import random"
      ]
    },
    {
      "cell_type": "code",
      "execution_count": null,
      "id": "893e6e27",
      "metadata": {
        "id": "893e6e27"
      },
      "outputs": [],
      "source": [
        "# !pip install spacy\n",
        "!python -m spacy download en_core_web_sm"
      ]
    },
    {
      "cell_type": "code",
      "execution_count": null,
      "id": "dd5e9ca4",
      "metadata": {
        "id": "dd5e9ca4",
        "scrolled": true
      },
      "outputs": [],
      "source": [
        "import spacy\n",
        "sp = spacy.load('en_core_web_sm')"
      ]
    },
    {
      "cell_type": "code",
      "execution_count": null,
      "id": "3156ee57",
      "metadata": {
        "id": "3156ee57"
      },
      "outputs": [],
      "source": [
        "sen = sp(u\"I like to drink coffee. I hated it in my childhood though\")"
      ]
    },
    {
      "cell_type": "code",
      "execution_count": null,
      "id": "6c80ff59",
      "metadata": {
        "colab": {
          "base_uri": "https://localhost:8080/"
        },
        "id": "6c80ff59",
        "outputId": "bb06ceff-b6f5-4860-c9e0-fdd240dde64b"
      },
      "outputs": [],
      "source": [
        "print(sen.text)"
      ]
    },
    {
      "cell_type": "code",
      "execution_count": null,
      "id": "30fdaf2d",
      "metadata": {
        "colab": {
          "base_uri": "https://localhost:8080/"
        },
        "id": "30fdaf2d",
        "outputId": "f366f3bf-6df6-4342-9b0d-d96794d252ca"
      },
      "outputs": [],
      "source": [
        "print(sen[7].pos_)"
      ]
    },
    {
      "cell_type": "code",
      "execution_count": null,
      "id": "b5047965",
      "metadata": {
        "colab": {
          "base_uri": "https://localhost:8080/"
        },
        "id": "b5047965",
        "outputId": "b5967df6-db46-470f-8873-281da3e8c13e"
      },
      "outputs": [],
      "source": [
        "print(sen[7].tag_)"
      ]
    },
    {
      "cell_type": "code",
      "execution_count": null,
      "id": "36e5ffb9",
      "metadata": {
        "colab": {
          "base_uri": "https://localhost:8080/"
        },
        "id": "36e5ffb9",
        "outputId": "069b4bb7-7f43-4244-fc62-cee7040e755c"
      },
      "outputs": [],
      "source": [
        "print(spacy.explain(sen[7].tag_))"
      ]
    },
    {
      "cell_type": "code",
      "execution_count": null,
      "id": "8e128981",
      "metadata": {
        "colab": {
          "base_uri": "https://localhost:8080/"
        },
        "id": "8e128981",
        "outputId": "777079f2-2a5f-474e-ccbe-03c41d3c13a2"
      },
      "outputs": [],
      "source": [
        "for word in sen:\n",
        "    print(f'{word.text:{12}} {word.pos_:{10}} {word.tag_:{8}} {spacy.explain(word.tag_)}')"
      ]
    },
    {
      "cell_type": "code",
      "execution_count": null,
      "id": "43086f50",
      "metadata": {
        "colab": {
          "base_uri": "https://localhost:8080/"
        },
        "id": "43086f50",
        "outputId": "539190bf-c462-4915-fe42-ff20951b033f"
      },
      "outputs": [],
      "source": [
        "sen = sp(u'Can you google it?')\n",
        "word = sen[2]\n",
        "print(f'{word.text:{12}} {word.pos_:{10}} {word.tag_:{8}} {spacy.explain(word.tag_)}')"
      ]
    },
    {
      "cell_type": "code",
      "execution_count": null,
      "id": "380fa693",
      "metadata": {
        "colab": {
          "base_uri": "https://localhost:8080/"
        },
        "id": "380fa693",
        "outputId": "bef9223f-2efa-48b9-8423-6274d1af24e0"
      },
      "outputs": [],
      "source": [
        "sen = sp(u'Can you search it on google?')\n",
        "word = sen[5]\n",
        "print(f'{word.text:{12}} {word.pos_:{10}} {word.tag_:{8}} {spacy.explain(word.tag_)}')"
      ]
    },
    {
      "cell_type": "code",
      "execution_count": null,
      "id": "4a4f85c1",
      "metadata": {
        "colab": {
          "base_uri": "https://localhost:8080/"
        },
        "id": "4a4f85c1",
        "outputId": "630ceab3-9c25-48d3-b8e4-c80d8e8c7b1c"
      },
      "outputs": [],
      "source": [
        "sen = sp(u\"I like to play football. I hated it in my childhood though\")\n",
        "num_pos = sen.count_by(spacy.attrs.POS)\n",
        "num_pos"
      ]
    },
    {
      "cell_type": "code",
      "execution_count": null,
      "id": "4473a12e",
      "metadata": {
        "colab": {
          "base_uri": "https://localhost:8080/"
        },
        "id": "4473a12e",
        "outputId": "ac9b6e65-f263-4835-c4e6-b260085a97dd"
      },
      "outputs": [],
      "source": [
        "for k,v in sorted(num_pos.items()):\n",
        "    print(f'{k}. {sen.vocab[k].text:{8}}: {v}')"
      ]
    },
    {
      "cell_type": "code",
      "execution_count": null,
      "id": "d4e60931",
      "metadata": {
        "colab": {
          "base_uri": "https://localhost:8080/",
          "height": 286
        },
        "id": "d4e60931",
        "outputId": "6c4b394a-fd44-47ad-ed85-f8f4bd1ba9b5"
      },
      "outputs": [],
      "source": [
        "from spacy import displacy\n",
        "sen = sp(u\"I like to play football. I hated it in my childhood though\")\n",
        "displacy.render(sen, style='dep', options={'distance': 85})"
      ]
    },
    {
      "cell_type": "code",
      "execution_count": null,
      "id": "a170d3e9",
      "metadata": {
        "colab": {
          "base_uri": "https://localhost:8080/",
          "height": 338
        },
        "id": "a170d3e9",
        "outputId": "dfd78bc6-0afb-4903-8fcb-7e6fe1b2249b"
      },
      "outputs": [],
      "source": [
        "displacy.render(sen, style='dep', options={'distance': 120})"
      ]
    },
    {
      "cell_type": "code",
      "execution_count": null,
      "id": "cad141f1",
      "metadata": {
        "id": "cad141f1"
      },
      "outputs": [],
      "source": [
        "sen = sp(u'Manchester United is looking to sign Harry Kane for $90 million')"
      ]
    },
    {
      "cell_type": "code",
      "execution_count": null,
      "id": "e9ff6715",
      "metadata": {
        "colab": {
          "base_uri": "https://localhost:8080/"
        },
        "id": "e9ff6715",
        "outputId": "b27be222-b260-4d22-9f89-a12c8b71a3a3"
      },
      "outputs": [],
      "source": [
        "print(sen.ents)"
      ]
    },
    {
      "cell_type": "code",
      "execution_count": null,
      "id": "54eaa3c9",
      "metadata": {
        "colab": {
          "base_uri": "https://localhost:8080/"
        },
        "id": "54eaa3c9",
        "outputId": "980b4245-e19e-47a9-e49e-bb27fa40b5f7"
      },
      "outputs": [],
      "source": [
        "for entity in sen.ents:\n",
        "    print(entity.text + ' - ' + entity.label_ + ' - ' + str(spacy.explain(entity.label_)))"
      ]
    },
    {
      "cell_type": "code",
      "execution_count": null,
      "id": "1fc6dfe0",
      "metadata": {
        "colab": {
          "base_uri": "https://localhost:8080/"
        },
        "id": "1fc6dfe0",
        "outputId": "a00db5e5-a979-4acc-b4c6-029df05a9564"
      },
      "outputs": [],
      "source": [
        "sen = sp(u'Nesfruita is setting up a new company in India')\n",
        "for entity in sen.ents:\n",
        "    print(entity.text + ' - ' + entity.label_ + ' - ' + str(spacy.explain(entity.label_)))"
      ]
    },
    {
      "cell_type": "code",
      "execution_count": null,
      "id": "81b4bd0f",
      "metadata": {
        "id": "81b4bd0f",
        "scrolled": true
      },
      "outputs": [],
      "source": [
        "from spacy.tokens import Span\n",
        "# ORG = sen.vocab.strings[u'ORG']\n",
        "ORG = sp.vocab.strings['ORG']\n",
        "\n",
        "new_entity = Span(sen, 0, 1, label=ORG)\n",
        "# sen.ents = list(sen.ents) + [new_entity]\n",
        "sen.set_ents([new_entity], default=\"unmodified\")"
      ]
    },
    {
      "cell_type": "code",
      "execution_count": null,
      "id": "b3cfb0ab",
      "metadata": {
        "colab": {
          "base_uri": "https://localhost:8080/"
        },
        "id": "b3cfb0ab",
        "outputId": "1712bbe5-0d15-46ef-8fa9-d36fa69b132d"
      },
      "outputs": [],
      "source": [
        "for entity in sen.ents:\n",
        "    print(entity.text + ' - ' + entity.label_ + ' - ' + str(spacy.explain(entity.label_)))"
      ]
    },
    {
      "cell_type": "code",
      "execution_count": null,
      "id": "c31f33dd",
      "metadata": {
        "colab": {
          "base_uri": "https://localhost:8080/"
        },
        "id": "c31f33dd",
        "outputId": "614e7829-9203-4bc8-8ebd-8842ea30b94f"
      },
      "outputs": [],
      "source": [
        "sen = sp(u'Manchester United is looking to sign Harry Kane for $90 million. David demand 100 Million Dollars')\n",
        "for entity in sen.ents:\n",
        "    print(entity.text + ' - ' + entity.label_ + ' - ' + str(spacy.explain(entity.label_)))"
      ]
    },
    {
      "cell_type": "code",
      "execution_count": null,
      "id": "685830d8",
      "metadata": {
        "colab": {
          "base_uri": "https://localhost:8080/"
        },
        "id": "685830d8",
        "outputId": "706f8092-9e1f-420e-eef7-38bd7cd33990"
      },
      "outputs": [],
      "source": [
        "len([ent for ent in sen.ents if ent.label_=='PERSON'])"
      ]
    },
    {
      "cell_type": "code",
      "execution_count": null,
      "id": "f1f9c933",
      "metadata": {
        "colab": {
          "base_uri": "https://localhost:8080/",
          "height": 52
        },
        "id": "f1f9c933",
        "outputId": "45dffb66-4e23-4405-951c-9c8cf487ee9e"
      },
      "outputs": [],
      "source": [
        "from spacy import displacy\n",
        "sen = sp(u'Manchester United is looking to sign Harry Kane for $90 million. David demand 100 Million Dollars')\n",
        "displacy.render(sen, style='ent', jupyter=True)"
      ]
    },
    {
      "cell_type": "code",
      "execution_count": null,
      "id": "3cf3aa71",
      "metadata": {
        "colab": {
          "base_uri": "https://localhost:8080/",
          "height": 52
        },
        "id": "3cf3aa71",
        "outputId": "d57b7edb-e015-4980-b141-bfc86162e247"
      },
      "outputs": [],
      "source": [
        "filter = {'ents': ['ORG']}\n",
        "displacy.render(sen, style='ent', jupyter=True, options=filter)"
      ]
    },
    {
      "cell_type": "code",
      "execution_count": null,
      "id": "4226f5c7",
      "metadata": {
        "colab": {
          "base_uri": "https://localhost:8080/",
          "height": 52
        },
        "id": "4226f5c7",
        "outputId": "a23bd745-a90b-411d-c6e6-f1ebf1e090ca"
      },
      "outputs": [],
      "source": [
        "displacy.render(sen, style='ent')"
      ]
    },
    {
      "cell_type": "code",
      "execution_count": null,
      "id": "d43f30db",
      "metadata": {
        "id": "d43f30db"
      },
      "outputs": [],
      "source": [
        "Reference: https://stackabuse.com/python-for-nlp-parts-of-speech-tagging-and-named-entity-recognition (https://stackabuse.com/python-for-nlp-parts-of-speech-tagging-and-named-entity-recognition)\n",
        "Author: Usman Malik Blog name: Python for NLP: Parts of Speech Tagging and Named Entity Recognition"
      ]
    },
    {
      "cell_type": "markdown",
      "id": "eFazXR4EaseH",
      "metadata": {
        "id": "eFazXR4EaseH"
      },
      "source": []
    }
  ],
  "metadata": {
    "colab": {
      "provenance": []
    },
    "kernelspec": {
      "display_name": "Python 3",
      "language": "python",
      "name": "python3"
    },
    "language_info": {
      "codemirror_mode": {
        "name": "mojo"
      },
      "file_extension": ".mojo",
      "mimetype": "text/x-mojo",
      "name": "python",
      "version": "3.12.11"
    }
  },
  "nbformat": 4,
  "nbformat_minor": 5
}
