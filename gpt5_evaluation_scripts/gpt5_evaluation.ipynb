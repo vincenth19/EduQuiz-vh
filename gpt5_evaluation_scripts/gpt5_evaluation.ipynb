{
 "cells": [
  {
   "cell_type": "code",
   "execution_count": 18,
   "id": "92e52e15",
   "metadata": {},
   "outputs": [
    {
     "name": "stdout",
     "output_type": "stream",
     "text": [
      "Requirement already satisfied: evaluate in /Users/vh19/.local/share/mise/installs/python/3.13.5/lib/python3.13/site-packages (0.4.5)\n",
      "Requirement already satisfied: nltk in /Users/vh19/.local/share/mise/installs/python/3.13.5/lib/python3.13/site-packages (3.9.1)\n",
      "Requirement already satisfied: rouge_score in /Users/vh19/.local/share/mise/installs/python/3.13.5/lib/python3.13/site-packages (0.1.2)\n",
      "Requirement already satisfied: absl-py in /Users/vh19/.local/share/mise/installs/python/3.13.5/lib/python3.13/site-packages (2.3.1)\n",
      "Requirement already satisfied: datasets>=2.0.0 in /Users/vh19/.local/share/mise/installs/python/3.13.5/lib/python3.13/site-packages (from evaluate) (2.21.0)\n",
      "Requirement already satisfied: numpy>=1.17 in /Users/vh19/.local/share/mise/installs/python/3.13.5/lib/python3.13/site-packages (from evaluate) (2.3.2)\n",
      "Requirement already satisfied: dill in /Users/vh19/.local/share/mise/installs/python/3.13.5/lib/python3.13/site-packages (from evaluate) (0.3.5.1)\n",
      "Requirement already satisfied: pandas in /Users/vh19/.local/share/mise/installs/python/3.13.5/lib/python3.13/site-packages (from evaluate) (2.3.2)\n",
      "Requirement already satisfied: requests>=2.19.0 in /Users/vh19/.local/share/mise/installs/python/3.13.5/lib/python3.13/site-packages (from evaluate) (2.32.5)\n",
      "Requirement already satisfied: tqdm>=4.62.1 in /Users/vh19/.local/share/mise/installs/python/3.13.5/lib/python3.13/site-packages (from evaluate) (4.67.1)\n",
      "Requirement already satisfied: xxhash in /Users/vh19/.local/share/mise/installs/python/3.13.5/lib/python3.13/site-packages (from evaluate) (3.5.0)\n",
      "Requirement already satisfied: multiprocess in /Users/vh19/.local/share/mise/installs/python/3.13.5/lib/python3.13/site-packages (from evaluate) (0.70.13)\n",
      "Requirement already satisfied: fsspec>=2021.05.0 in /Users/vh19/.local/share/mise/installs/python/3.13.5/lib/python3.13/site-packages (from fsspec[http]>=2021.05.0->evaluate) (2024.6.1)\n",
      "Requirement already satisfied: huggingface-hub>=0.7.0 in /Users/vh19/.local/share/mise/installs/python/3.13.5/lib/python3.13/site-packages (from evaluate) (0.34.4)\n",
      "Requirement already satisfied: packaging in /Users/vh19/.local/lib/python3.13/site-packages (from evaluate) (25.0)\n",
      "Requirement already satisfied: click in /Users/vh19/.local/share/mise/installs/python/3.13.5/lib/python3.13/site-packages (from nltk) (8.2.1)\n",
      "Requirement already satisfied: joblib in /Users/vh19/.local/share/mise/installs/python/3.13.5/lib/python3.13/site-packages (from nltk) (1.5.1)\n",
      "Requirement already satisfied: regex>=2021.8.3 in /Users/vh19/.local/share/mise/installs/python/3.13.5/lib/python3.13/site-packages (from nltk) (2025.7.34)\n",
      "Requirement already satisfied: six>=1.14.0 in /Users/vh19/.local/lib/python3.13/site-packages (from rouge_score) (1.17.0)\n",
      "Requirement already satisfied: filelock in /Users/vh19/.local/share/mise/installs/python/3.13.5/lib/python3.13/site-packages (from datasets>=2.0.0->evaluate) (3.19.1)\n",
      "Requirement already satisfied: pyarrow>=15.0.0 in /Users/vh19/.local/share/mise/installs/python/3.13.5/lib/python3.13/site-packages (from datasets>=2.0.0->evaluate) (21.0.0)\n",
      "Requirement already satisfied: aiohttp in /Users/vh19/.local/share/mise/installs/python/3.13.5/lib/python3.13/site-packages (from datasets>=2.0.0->evaluate) (3.12.15)\n",
      "Requirement already satisfied: pyyaml>=5.1 in /Users/vh19/.local/share/mise/installs/python/3.13.5/lib/python3.13/site-packages (from datasets>=2.0.0->evaluate) (6.0.2)\n",
      "Requirement already satisfied: typing-extensions>=3.7.4.3 in /Users/vh19/.local/share/mise/installs/python/3.13.5/lib/python3.13/site-packages (from huggingface-hub>=0.7.0->evaluate) (4.14.1)\n",
      "Requirement already satisfied: hf-xet<2.0.0,>=1.1.3 in /Users/vh19/.local/share/mise/installs/python/3.13.5/lib/python3.13/site-packages (from huggingface-hub>=0.7.0->evaluate) (1.1.8)\n",
      "Requirement already satisfied: charset_normalizer<4,>=2 in /Users/vh19/.local/share/mise/installs/python/3.13.5/lib/python3.13/site-packages (from requests>=2.19.0->evaluate) (3.4.3)\n",
      "Requirement already satisfied: idna<4,>=2.5 in /Users/vh19/.local/share/mise/installs/python/3.13.5/lib/python3.13/site-packages (from requests>=2.19.0->evaluate) (3.10)\n",
      "Requirement already satisfied: urllib3<3,>=1.21.1 in /Users/vh19/.local/share/mise/installs/python/3.13.5/lib/python3.13/site-packages (from requests>=2.19.0->evaluate) (2.5.0)\n",
      "Requirement already satisfied: certifi>=2017.4.17 in /Users/vh19/.local/share/mise/installs/python/3.13.5/lib/python3.13/site-packages (from requests>=2.19.0->evaluate) (2025.8.3)\n",
      "Requirement already satisfied: python-dateutil>=2.8.2 in /Users/vh19/.local/lib/python3.13/site-packages (from pandas->evaluate) (2.9.0.post0)\n",
      "Requirement already satisfied: pytz>=2020.1 in /Users/vh19/.local/share/mise/installs/python/3.13.5/lib/python3.13/site-packages (from pandas->evaluate) (2025.2)\n",
      "Requirement already satisfied: tzdata>=2022.7 in /Users/vh19/.local/share/mise/installs/python/3.13.5/lib/python3.13/site-packages (from pandas->evaluate) (2025.2)\n",
      "Requirement already satisfied: aiohappyeyeballs>=2.5.0 in /Users/vh19/.local/share/mise/installs/python/3.13.5/lib/python3.13/site-packages (from aiohttp->datasets>=2.0.0->evaluate) (2.6.1)\n",
      "Requirement already satisfied: aiosignal>=1.4.0 in /Users/vh19/.local/share/mise/installs/python/3.13.5/lib/python3.13/site-packages (from aiohttp->datasets>=2.0.0->evaluate) (1.4.0)\n",
      "Requirement already satisfied: attrs>=17.3.0 in /Users/vh19/.local/share/mise/installs/python/3.13.5/lib/python3.13/site-packages (from aiohttp->datasets>=2.0.0->evaluate) (25.3.0)\n",
      "Requirement already satisfied: frozenlist>=1.1.1 in /Users/vh19/.local/share/mise/installs/python/3.13.5/lib/python3.13/site-packages (from aiohttp->datasets>=2.0.0->evaluate) (1.7.0)\n",
      "Requirement already satisfied: multidict<7.0,>=4.5 in /Users/vh19/.local/share/mise/installs/python/3.13.5/lib/python3.13/site-packages (from aiohttp->datasets>=2.0.0->evaluate) (6.6.4)\n",
      "Requirement already satisfied: propcache>=0.2.0 in /Users/vh19/.local/share/mise/installs/python/3.13.5/lib/python3.13/site-packages (from aiohttp->datasets>=2.0.0->evaluate) (0.3.2)\n",
      "Requirement already satisfied: yarl<2.0,>=1.17.0 in /Users/vh19/.local/share/mise/installs/python/3.13.5/lib/python3.13/site-packages (from aiohttp->datasets>=2.0.0->evaluate) (1.20.1)\n",
      "\n",
      "\u001b[1m[\u001b[0m\u001b[34;49mnotice\u001b[0m\u001b[1;39;49m]\u001b[0m\u001b[39;49m A new release of pip is available: \u001b[0m\u001b[31;49m24.3.1\u001b[0m\u001b[39;49m -> \u001b[0m\u001b[32;49m25.2\u001b[0m\n",
      "\u001b[1m[\u001b[0m\u001b[34;49mnotice\u001b[0m\u001b[1;39;49m]\u001b[0m\u001b[39;49m To update, run: \u001b[0m\u001b[32;49mpip install --upgrade pip\u001b[0m\n",
      "Note: you may need to restart the kernel to use updated packages.\n"
     ]
    }
   ],
   "source": [
    "%pip install evaluate nltk rouge_score absl-py"
   ]
  },
  {
   "cell_type": "code",
   "execution_count": 20,
   "id": "8ced4de7",
   "metadata": {},
   "outputs": [],
   "source": [
    "import evaluate\n",
    "import json\n",
    "import os"
   ]
  },
  {
   "cell_type": "code",
   "execution_count": 21,
   "id": "76867e37",
   "metadata": {},
   "outputs": [
    {
     "name": "stdout",
     "output_type": "stream",
     "text": [
      "Found 1 JSON files to process:\n",
      "  - a1_test.json\n",
      "Original quiz path: /Users/vh19/Documents/Works/personal-projects/EduQuiz-vh/processed_data/gpt5/processed_test.jsonl\n"
     ]
    }
   ],
   "source": [
    "# Change these variables to perform evalution for you task\n",
    "original_quiz_path = os.path.abspath(os.getcwd()).split('gpt5_evaluation_scripts')[0] + 'processed_data/gpt5/processed_test.jsonl'\n",
    "generated_data_dir = os.path.abspath(os.getcwd()).split('gpt5_evaluation_scripts')[0] + 'generated_data_gpt5/'\n",
    "\n",
    "# Find all .json files in the generated_data_gpt5 directory (excluding automatic_evaluation files)\n",
    "json_files = [f for f in os.listdir(generated_data_dir) if f.endswith('.json') and not f.startswith('automatic_evaluation')]\n",
    "print(f\"Found {len(json_files)} JSON files to process:\")\n",
    "for file in json_files:\n",
    "    print(f\"  - {file}\")\n",
    "print(f\"Original quiz path: {original_quiz_path}\")\n",
    "\n",
    "# Get original quizzes (load once, use for all files)\n",
    "original_quizzes = []\n",
    "for line in open(original_quiz_path):\n",
    "    original_quizzes.append(json.loads(line)['completion'].split(\"\\n###\")[0].replace(\"\\n\",\" \").strip())"
   ]
  },
  {
   "cell_type": "code",
   "execution_count": 22,
   "id": "70b66793",
   "metadata": {},
   "outputs": [
    {
     "name": "stdout",
     "output_type": "stream",
     "text": [
      "\n",
      "============================================================\n",
      "Processing: a1_test.json\n",
      "============================================================\n"
     ]
    }
   ],
   "source": [
    "# Process each JSON file sequentially\n",
    "for json_file in json_files:\n",
    "    print(f\"\\n{'='*60}\")\n",
    "    print(f\"Processing: {json_file}\")\n",
    "    print(f\"{'='*60}\")\n",
    "    \n",
    "    generated_quiz_path = os.path.join(generated_data_dir, json_file)\n",
    "    file_basename = os.path.splitext(json_file)[0]  # Remove .json extension for output files\n",
    "    \n",
    "    # Get generated quizzes for current file\n",
    "    generated_quizzes = []\n",
    "    with open(generated_quiz_path) as f:\n",
    "        generated_quizzes_dict = json.load(f)\n",
    "\n",
    "    for key in generated_quizzes_dict:\n",
    "        generated_quizzes.append(generated_quizzes_dict[key].replace(\"\\n\",\" \").strip())"
   ]
  },
  {
   "cell_type": "code",
   "execution_count": 23,
   "id": "3d9dfcfa",
   "metadata": {},
   "outputs": [
    {
     "name": "stdout",
     "output_type": "stream",
     "text": [
      "Processing 5 quiz pairs\n",
      "Sample prediction: Question: Why did the narrator arrange for Santa to bring an extra gift for Alice? True answer: To give her the doll she never received as a child in 1925. False answer: To surprise her with a trip to visit her childhood home. False answer: Because Katie asked Santa to bring a present for her grandmother. False answer: To replace a doll Alice had recently lost.\n",
      "Sample reference: [\"Question: Why couldn't Alice get a doll as a child? True answer: Because her family was very poor. False answer: Because her mother died quite early. False answer: Because her family disliked her. False answer: Because Alice didn't love dolls.\"]\n"
     ]
    }
   ],
   "source": [
    "# Put the predictions and gold references in lists\n",
    "predictions = []\n",
    "gold_references = []\n",
    "\n",
    "# Use the length of generated quizzes and ensure we don't exceed original quizzes length\n",
    "max_items = min(len(generated_quizzes), len(original_quizzes))\n",
    "for i in range(max_items):\n",
    "    predictions.append(generated_quizzes[i])\n",
    "    gold_references.append([original_quizzes[i]])  # BLEU expects list of reference strings\n",
    "\n",
    "print(f\"Processing {len(predictions)} quiz pairs\")\n",
    "print(\"Sample prediction:\", predictions[0] if predictions else \"None\")\n",
    "print(\"Sample reference:\", gold_references[0] if gold_references else \"None\")"
   ]
  },
  {
   "cell_type": "code",
   "execution_count": 24,
   "id": "7514ed0c",
   "metadata": {},
   "outputs": [],
   "source": [
    "# Load evaluation metrics\n",
    "bleu = evaluate.load('bleu')\n",
    "rouge = evaluate.load('rouge')"
   ]
  },
  {
   "cell_type": "code",
   "execution_count": 25,
   "id": "957df6de",
   "metadata": {},
   "outputs": [],
   "source": [
    "# Add batches for evaluation\n",
    "bleu.add_batch(predictions=predictions, references=gold_references)\n",
    "rouge.add_batch(predictions=predictions, references=gold_references)"
   ]
  },
  {
   "cell_type": "code",
   "execution_count": 26,
   "id": "f0b5280b",
   "metadata": {},
   "outputs": [],
   "source": [
    "# Compute final scores\n",
    "final_bleu = bleu.compute()\n",
    "final_rouge = rouge.compute()"
   ]
  },
  {
   "cell_type": "code",
   "execution_count": 27,
   "id": "ddd7208e",
   "metadata": {},
   "outputs": [],
   "source": [
    "# Define path of downloaded meteor from https://www.cs.cmu.edu/~alavie/METEOR/\n",
    "meteor_path = os.path.abspath(os.getcwd()).split('gpt5_evaluation_scripts')[0] + '/meteor-1.5/'\n",
    "\n",
    "# Move results to meteor directory\n",
    "with open(meteor_path + \"predictions.txt\", 'w') as f:\n",
    "    for i in range(len(predictions)):\n",
    "        f.write(str(predictions[i]) + '\\n')\n",
    "        \n",
    "with open(meteor_path + \"ground_truth.txt\", 'w') as f:\n",
    "    for i in range(len(gold_references)):\n",
    "        f.write(str(gold_references[i]) + '\\n')\n",
    "\n",
    "# Run the meteor command from the meteor directory and remove result files again   \n",
    "wd = os.getcwd()\n",
    "os.chdir(meteor_path)\n",
    "output = os.popen(\"java -Xmx2G -jar meteor-*.jar predictions.txt ground_truth.txt -l en -norm\").read()\n",
    "os.remove(meteor_path + \"predictions.txt\")\n",
    "os.remove(meteor_path + \"ground_truth.txt\")\n",
    "os.chdir(wd)\n",
    "\n",
    "# Get the score from the output\n",
    "meteor_score = round(float(output.split(\"Final score:\")[1].strip()) * 100, 2)"
   ]
  },
  {
   "cell_type": "code",
   "execution_count": 28,
   "id": "54f4a662",
   "metadata": {},
   "outputs": [
    {
     "name": "stdout",
     "output_type": "stream",
     "text": [
      "Results for a1_test.json:\n",
      "BLEU:  15.93\n",
      "ROUGE-L: 24.66\n",
      "METEOR:  21.68\n"
     ]
    }
   ],
   "source": [
    "# Print results for current file\n",
    "print(f\"Results for {json_file}:\")\n",
    "print(\"BLEU: \", str(round(final_bleu['bleu'] * 100, 2)))\n",
    "print(f\"ROUGE-L: {final_rouge['rougeL'] * 100:.2f}\")\n",
    "print(\"METEOR: \", str(meteor_score))"
   ]
  },
  {
   "cell_type": "code",
   "execution_count": 29,
   "id": "331f30af",
   "metadata": {},
   "outputs": [
    {
     "name": "stdout",
     "output_type": "stream",
     "text": [
      "Saved results to: automatic_evaluation_a1_test.txt\n"
     ]
    }
   ],
   "source": [
    "# Create result files with file-specific names\n",
    "result_filename = f'automatic_evaluation_{file_basename}.txt'\n",
    "result_path = os.path.join(generated_data_dir, result_filename)\n",
    "\n",
    "with open(result_path, 'w') as f:\n",
    "    f.write(\"BLEU: \" + str(round(final_bleu['bleu'] * 100, 2)))\n",
    "    f.write('\\n')\n",
    "    f.write(\"ROUGE-L: \" + str(round(final_rouge['rougeL'] * 100, 2)))\n",
    "    f.write('\\n')\n",
    "    f.write(\"METEOR: \" + str(meteor_score))\n",
    "\n",
    "print(f\"Saved results to: {result_filename}\")"
   ]
  },
  {
   "cell_type": "code",
   "execution_count": 30,
   "id": "eacbe38c",
   "metadata": {},
   "outputs": [
    {
     "name": "stdout",
     "output_type": "stream",
     "text": [
      "Test data length: 950\n",
      "Generated quizzes length: 5\n",
      "Created human evaluation file: a1_test_results.txt with 5 samples\n",
      "\n",
      "Completed processing all 1 files!\n"
     ]
    }
   ],
   "source": [
    "# Get all the target prompts and completions (load once outside loop, use test_data from earlier)\n",
    "test_data = []\n",
    "for line in open(original_quiz_path):\n",
    "    test_data.append((json.loads(line)))\n",
    "\n",
    "# Get quizzes for current file\n",
    "quizzes = []\n",
    "with open(generated_quiz_path) as f:\n",
    "    gen_quizzes = json.load(f)\n",
    "\n",
    "for key in gen_quizzes:\n",
    "    quizzes.append(gen_quizzes[key])\n",
    "\n",
    "print(f\"Test data length: {len(test_data)}\")\n",
    "print(f\"Generated quizzes length: {len(quizzes)}\")\n",
    "\n",
    "# Create human evaluation file - handle small datasets\n",
    "count = 0\n",
    "output_dir = os.path.abspath(os.getcwd()).split('gpt5_evaluation_scripts')[0] + 'human_evaluation/EEQG/'\n",
    "os.makedirs(output_dir, exist_ok=True)  # Create directory if it doesn't exist\n",
    "\n",
    "human_eval_filename = f'{file_basename}_results.txt'\n",
    "with open(os.path.join(output_dir, human_eval_filename), 'w') as f:\n",
    "    # Use the smaller of the two datasets to avoid index errors\n",
    "    max_samples = min(len(test_data), len(quizzes), 100)\n",
    "    step_size = max(1, len(quizzes) // max_samples) if len(quizzes) > max_samples else 1\n",
    "    \n",
    "    for i in range(0, len(quizzes), step_size):\n",
    "        if count >= max_samples:\n",
    "            break\n",
    "            \n",
    "        f.write('Excel row: ' + str(count+1) + ' Test instance: ' + str(i+1) + '\\n\\n')\n",
    "        f.write(test_data[i]['prompt'].split(\"\\n\\n###\")[0] + '\\n\\n')\n",
    "        f.write('Generated quiz:\\n')\n",
    "        f.write(quizzes[i].strip() + '\\n\\n')\n",
    "        f.write('----------------------------------------------------------------------------------------' + '\\n\\n')\n",
    "        count+=1\n",
    "\n",
    "print(f\"Created human evaluation file: {human_eval_filename} with {count} samples\")\n",
    "print(f\"\\nCompleted processing all {len(json_files)} files!\")\n"
   ]
  }
 ],
 "metadata": {
  "kernelspec": {
   "display_name": "Python 3",
   "language": "python",
   "name": "python3"
  },
  "language_info": {
   "codemirror_mode": {
    "name": "ipython",
    "version": 3
   },
   "file_extension": ".py",
   "mimetype": "text/x-python",
   "name": "python",
   "nbconvert_exporter": "python",
   "pygments_lexer": "ipython3",
   "version": "3.13.5"
  }
 },
 "nbformat": 4,
 "nbformat_minor": 5
}
